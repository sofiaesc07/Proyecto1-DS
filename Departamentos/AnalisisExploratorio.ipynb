{
 "cells": [
  {
   "cell_type": "code",
   "execution_count": 1,
   "metadata": {},
   "outputs": [
    {
     "name": "stderr",
     "output_type": "stream",
     "text": [
      "c:\\Users\\anaso\\AppData\\Local\\Programs\\Python\\Python311\\Lib\\site-packages\\tqdm\\auto.py:21: TqdmWarning: IProgress not found. Please update jupyter and ipywidgets. See https://ipywidgets.readthedocs.io/en/stable/user_install.html\n",
      "  from .autonotebook import tqdm as notebook_tqdm\n",
      "C:\\Users\\anaso\\AppData\\Local\\Temp\\ipykernel_11444\\3681628090.py:4: DeprecationWarning: `import pandas_profiling` is going to be deprecated by April 1st. Please use `import ydata_profiling` instead.\n",
      "  from pandas_profiling import ProfileReport\n"
     ]
    }
   ],
   "source": [
    "import pandas as pd\n",
    "import numpy as np\n",
    "import seaborn as sns\n",
    "from pandas_profiling import ProfileReport\n",
    "\n",
    "datos = pd.read_csv('DatosLimpios.csv')\n"
   ]
  },
  {
   "cell_type": "code",
   "execution_count": 2,
   "metadata": {},
   "outputs": [
    {
     "name": "stderr",
     "output_type": "stream",
     "text": [
      "Summarize dataset:   0%|          | 0/5 [00:00<?, ?it/s]"
     ]
    },
    {
     "name": "stderr",
     "output_type": "stream",
     "text": [
      "Summarize dataset: 100%|██████████| 34/34 [00:05<00:00,  6.37it/s, Completed]                                                                                                                                                                                                                               \n",
      "Generate report structure: 100%|██████████| 1/1 [00:10<00:00, 10.40s/it]\n",
      "Render HTML: 100%|██████████| 1/1 [00:01<00:00,  1.41s/it]\n",
      "Export report to file: 100%|██████████| 1/1 [00:00<00:00, 62.63it/s]\n"
     ]
    }
   ],
   "source": [
    "\n",
    "profile = ProfileReport(datos)\n",
    "profile.to_file(\"exploration.html\")"
   ]
  },
  {
   "cell_type": "code",
   "execution_count": 3,
   "metadata": {},
   "outputs": [
    {
     "data": {
      "text/html": [
       "<div>\n",
       "<style scoped>\n",
       "    .dataframe tbody tr th:only-of-type {\n",
       "        vertical-align: middle;\n",
       "    }\n",
       "\n",
       "    .dataframe tbody tr th {\n",
       "        vertical-align: top;\n",
       "    }\n",
       "\n",
       "    .dataframe thead th {\n",
       "        text-align: right;\n",
       "    }\n",
       "</style>\n",
       "<table border=\"1\" class=\"dataframe\">\n",
       "  <thead>\n",
       "    <tr style=\"text-align: right;\">\n",
       "      <th></th>\n",
       "      <th>Unnamed: 0</th>\n",
       "      <th>CODIGO DISTRITO DEPARTAMENTO MUNICIPIO    ESTABLECIMIENTO       DIRECCION      TELEFONO SUPERVISOR        DIRECTOR         NIVEL       SECTOR    AREA        STATUS     MODALIDAD    JORNADA        PLAN       DEPARTA</th>\n",
       "      <th>CODIGO DISTRITO DEPARTAMENTO        MUNICIPIO      ESTABLECIMIENTO       DIRECCION       TELEFONO SUPERVISOR      DIRECTOR      NIVEL        SECTOR      AREA        STATUS     MODALIDAD   JORNADA        PLAN</th>\n",
       "      <th>CODIGO DISTRITO DEPARTAMENTO       MUNICIPIO    ESTABLECIMIENTO       DIRECCION          TELEFONO SUPERVISOR         DIRECTOR        NIVEL        SECTOR    AREA        STATUS     MODALIDAD    JORNADA        PLAN</th>\n",
       "      <th>CODIGO DISTRITO DEPARTAMENTO MUNICIPIO      ESTABLECIMIENTO         DIRECCION          TELEFONO SUPERVISOR      DIRECTOR      NIVEL        SECTOR       AREA        STATUS    MODALIDAD   JORNADA        PLAN       DE</th>\n",
       "    </tr>\n",
       "  </thead>\n",
       "  <tbody>\n",
       "    <tr>\n",
       "      <th>count</th>\n",
       "      <td>6566.000000</td>\n",
       "      <td>0.0</td>\n",
       "      <td>0.0</td>\n",
       "      <td>0.0</td>\n",
       "      <td>0.0</td>\n",
       "    </tr>\n",
       "    <tr>\n",
       "      <th>mean</th>\n",
       "      <td>4095.478069</td>\n",
       "      <td>NaN</td>\n",
       "      <td>NaN</td>\n",
       "      <td>NaN</td>\n",
       "      <td>NaN</td>\n",
       "    </tr>\n",
       "    <tr>\n",
       "      <th>std</th>\n",
       "      <td>3921.160455</td>\n",
       "      <td>NaN</td>\n",
       "      <td>NaN</td>\n",
       "      <td>NaN</td>\n",
       "      <td>NaN</td>\n",
       "    </tr>\n",
       "    <tr>\n",
       "      <th>min</th>\n",
       "      <td>0.000000</td>\n",
       "      <td>NaN</td>\n",
       "      <td>NaN</td>\n",
       "      <td>NaN</td>\n",
       "      <td>NaN</td>\n",
       "    </tr>\n",
       "    <tr>\n",
       "      <th>25%</th>\n",
       "      <td>1643.250000</td>\n",
       "      <td>NaN</td>\n",
       "      <td>NaN</td>\n",
       "      <td>NaN</td>\n",
       "      <td>NaN</td>\n",
       "    </tr>\n",
       "    <tr>\n",
       "      <th>50%</th>\n",
       "      <td>3286.500000</td>\n",
       "      <td>NaN</td>\n",
       "      <td>NaN</td>\n",
       "      <td>NaN</td>\n",
       "      <td>NaN</td>\n",
       "    </tr>\n",
       "    <tr>\n",
       "      <th>75%</th>\n",
       "      <td>4939.750000</td>\n",
       "      <td>NaN</td>\n",
       "      <td>NaN</td>\n",
       "      <td>NaN</td>\n",
       "      <td>NaN</td>\n",
       "    </tr>\n",
       "    <tr>\n",
       "      <th>max</th>\n",
       "      <td>15983.000000</td>\n",
       "      <td>NaN</td>\n",
       "      <td>NaN</td>\n",
       "      <td>NaN</td>\n",
       "      <td>NaN</td>\n",
       "    </tr>\n",
       "  </tbody>\n",
       "</table>\n",
       "</div>"
      ],
      "text/plain": [
       "         Unnamed: 0  \\\n",
       "count   6566.000000   \n",
       "mean    4095.478069   \n",
       "std     3921.160455   \n",
       "min        0.000000   \n",
       "25%     1643.250000   \n",
       "50%     3286.500000   \n",
       "75%     4939.750000   \n",
       "max    15983.000000   \n",
       "\n",
       "       CODIGO DISTRITO DEPARTAMENTO MUNICIPIO    ESTABLECIMIENTO       DIRECCION      TELEFONO SUPERVISOR        DIRECTOR         NIVEL       SECTOR    AREA        STATUS     MODALIDAD    JORNADA        PLAN       DEPARTA  \\\n",
       "count                                                0.0                                                                                                                                                                        \n",
       "mean                                                 NaN                                                                                                                                                                        \n",
       "std                                                  NaN                                                                                                                                                                        \n",
       "min                                                  NaN                                                                                                                                                                        \n",
       "25%                                                  NaN                                                                                                                                                                        \n",
       "50%                                                  NaN                                                                                                                                                                        \n",
       "75%                                                  NaN                                                                                                                                                                        \n",
       "max                                                  NaN                                                                                                                                                                        \n",
       "\n",
       "       CODIGO DISTRITO DEPARTAMENTO        MUNICIPIO      ESTABLECIMIENTO       DIRECCION       TELEFONO SUPERVISOR      DIRECTOR      NIVEL        SECTOR      AREA        STATUS     MODALIDAD   JORNADA        PLAN  \\\n",
       "count                                                0.0                                                                                                                                                                 \n",
       "mean                                                 NaN                                                                                                                                                                 \n",
       "std                                                  NaN                                                                                                                                                                 \n",
       "min                                                  NaN                                                                                                                                                                 \n",
       "25%                                                  NaN                                                                                                                                                                 \n",
       "50%                                                  NaN                                                                                                                                                                 \n",
       "75%                                                  NaN                                                                                                                                                                 \n",
       "max                                                  NaN                                                                                                                                                                 \n",
       "\n",
       "       CODIGO DISTRITO DEPARTAMENTO       MUNICIPIO    ESTABLECIMIENTO       DIRECCION          TELEFONO SUPERVISOR         DIRECTOR        NIVEL        SECTOR    AREA        STATUS     MODALIDAD    JORNADA        PLAN  \\\n",
       "count                                                0.0                                                                                                                                                                     \n",
       "mean                                                 NaN                                                                                                                                                                     \n",
       "std                                                  NaN                                                                                                                                                                     \n",
       "min                                                  NaN                                                                                                                                                                     \n",
       "25%                                                  NaN                                                                                                                                                                     \n",
       "50%                                                  NaN                                                                                                                                                                     \n",
       "75%                                                  NaN                                                                                                                                                                     \n",
       "max                                                  NaN                                                                                                                                                                     \n",
       "\n",
       "       CODIGO DISTRITO DEPARTAMENTO MUNICIPIO      ESTABLECIMIENTO         DIRECCION          TELEFONO SUPERVISOR      DIRECTOR      NIVEL        SECTOR       AREA        STATUS    MODALIDAD   JORNADA        PLAN       DE  \n",
       "count                                                0.0                                                                                                                                                                       \n",
       "mean                                                 NaN                                                                                                                                                                       \n",
       "std                                                  NaN                                                                                                                                                                       \n",
       "min                                                  NaN                                                                                                                                                                       \n",
       "25%                                                  NaN                                                                                                                                                                       \n",
       "50%                                                  NaN                                                                                                                                                                       \n",
       "75%                                                  NaN                                                                                                                                                                       \n",
       "max                                                  NaN                                                                                                                                                                       "
      ]
     },
     "execution_count": 3,
     "metadata": {},
     "output_type": "execute_result"
    }
   ],
   "source": [
    "datos.describe()"
   ]
  }
 ],
 "metadata": {
  "kernelspec": {
   "display_name": "Python 3",
   "language": "python",
   "name": "python3"
  },
  "language_info": {
   "codemirror_mode": {
    "name": "ipython",
    "version": 3
   },
   "file_extension": ".py",
   "mimetype": "text/x-python",
   "name": "python",
   "nbconvert_exporter": "python",
   "pygments_lexer": "ipython3",
   "version": "3.11.1"
  },
  "orig_nbformat": 4
 },
 "nbformat": 4,
 "nbformat_minor": 2
}
